{
 "cells": [
  {
   "cell_type": "code",
   "execution_count": 3,
   "metadata": {},
   "outputs": [
    {
     "name": "stderr",
     "output_type": "stream",
     "text": [
      "[nltk_data] Downloading package wordnet to /home/jovyan/nltk_data...\n",
      "[nltk_data]   Package wordnet is already up-to-date!\n"
     ]
    },
    {
     "name": "stdout",
     "output_type": "stream",
     "text": [
      "loading annotations into memory...\n",
      "Done (t=0.33s)\n",
      "creating index...\n",
      "index created!\n"
     ]
    },
    {
     "data": {
      "text/plain": [
       "DecoderRNN(\n",
       "  (embed): Embedding(4530, 300)\n",
       "  (init_c): Linear(in_features=2048, out_features=512, bias=True)\n",
       "  (init_h): Linear(in_features=2048, out_features=512, bias=True)\n",
       "  (lstm): LSTMCell(2348, 512)\n",
       "  (fc): Linear(in_features=512, out_features=4530, bias=True)\n",
       "  (dropouts): ModuleList(\n",
       "    (0): Dropout(p=0.5, inplace=False)\n",
       "    (1): Dropout(p=0.5, inplace=False)\n",
       "    (2): Dropout(p=0.5, inplace=False)\n",
       "    (3): Dropout(p=0.5, inplace=False)\n",
       "    (4): Dropout(p=0.5, inplace=False)\n",
       "  )\n",
       "  (attention): BahdanauAttention(\n",
       "    (w1): Linear(in_features=2048, out_features=2048, bias=True)\n",
       "    (w2): Linear(in_features=512, out_features=2048, bias=True)\n",
       "    (dropouts): ModuleList(\n",
       "      (0): Dropout(p=0.5, inplace=False)\n",
       "      (1): Dropout(p=0.5, inplace=False)\n",
       "      (2): Dropout(p=0.5, inplace=False)\n",
       "      (3): Dropout(p=0.5, inplace=False)\n",
       "      (4): Dropout(p=0.5, inplace=False)\n",
       "    )\n",
       "    (v): Linear(in_features=2048, out_features=1, bias=True)\n",
       "  )\n",
       ")"
      ]
     },
     "execution_count": 3,
     "metadata": {},
     "output_type": "execute_result"
    }
   ],
   "source": [
    "import config\n",
    "import pickle\n",
    "from data_loader import get_loader,CocoDataset, get_loader_unique\n",
    "from build_vocab import Vocabulary\n",
    "from torchtext.data.metrics import bleu_score\n",
    "from MyCocoDataset import MyCocoCaptions\n",
    "from tqdm import tqdm\n",
    "from nltk.translate import meteor_score\n",
    "import torch\n",
    "import torchvision.transforms as transforms\n",
    "import nltk\n",
    "from torch import nn,optim\n",
    "from model import CNNfull,DecoderRNN\n",
    "from torch.nn.utils.rnn import pack_padded_sequence\n",
    "from tqdm import tqdm\n",
    "nltk.download('wordnet')\n",
    "\n",
    "with open(config.VOCAB_PATH, 'rb') as f:\n",
    "    vocab = pickle.load(f)\n",
    "vocab_size = len(vocab)\n",
    "\n",
    "transformation = transforms.Compose([transforms.Resize((224,224)), \n",
    "                                    transforms.ToTensor(),\n",
    "                                    transforms.Normalize((0.485, 0.456, 0.406), (0.229, 0.224, 0.225))\n",
    "                                    ])\n",
    "\n",
    "VAL_LOADER_UNIQUE = {'root':config.VAL_IMG_PATH, 'json':config.VAL_JSON_PATH, 'batch_size':16, 'shuffle':False,'transform':transformation, 'num_workers':4}\n",
    "val_loader_unique = get_loader_unique(**VAL_LOADER_UNIQUE)\n",
    "\n",
    "\n",
    "device = torch.device(\"cuda\" if torch.cuda.is_available() else \"cpu\") \n",
    "\n",
    "encoder = CNNfull(2048)\n",
    "encoder.to(device)\n",
    "decoder = DecoderRNN(2048,300,512,vocab_size)\n",
    "decoder.to(device)\n",
    "encoder.load_state_dict(torch.load('./weights/g_encoder_weights_epoch4_bleu0.24715.pth'))\n",
    "decoder.load_state_dict(torch.load('./weights/g_decoder_weights_epoch4_bleu0.24715.pth'))\n",
    "encoder.eval()\n",
    "decoder.eval()\n",
    "from train import val_epoch\n",
    "device = torch.device(\"cuda\" if torch.cuda.is_available() else \"cpu\") \n",
    "bleu2,bleu3,bleu4,meteor = val_epoch(val_loader_unique,device,encoder,decoder,vocab,0,enc_scheduler=None,dec_scheduler=None,view_val_captions=False)\n",
    "print(f'Bleu2 score:{bleu2}')\n",
    "print(f'Bleu3 score:{bleu3}')\n",
    "print(f'Bleu4 score:{bleu4}')\n",
    "print(f'Meteor score:{meteor}')"
   ]
  },
  {
   "cell_type": "code",
   "execution_count": 5,
   "metadata": {},
   "outputs": [
    {
     "name": "stderr",
     "output_type": "stream",
     "text": [
      "100%|██████████| 2532/2532 [07:19<00:00,  5.76it/s]\n"
     ]
    }
   ],
   "source": []
  },
  {
   "cell_type": "code",
   "execution_count": 6,
   "metadata": {},
   "outputs": [
    {
     "name": "stdout",
     "output_type": "stream",
     "text": [
      "Bleu2 score:0.49949730568344747\n",
      "Bleu3 score:0.3521806346703959\n",
      "Bleu4 score:0.24714612543121411\n",
      "Meteor score:0.24842504197582158\n"
     ]
    }
   ],
   "source": []
  },
  {
   "cell_type": "code",
   "execution_count": null,
   "metadata": {},
   "outputs": [],
   "source": []
  }
 ],
 "metadata": {
  "kernelspec": {
   "display_name": "Python 3",
   "language": "python",
   "name": "python3"
  },
  "language_info": {
   "codemirror_mode": {
    "name": "ipython",
    "version": 3
   },
   "file_extension": ".py",
   "mimetype": "text/x-python",
   "name": "python",
   "nbconvert_exporter": "python",
   "pygments_lexer": "ipython3",
   "version": "3.6.10"
  }
 },
 "nbformat": 4,
 "nbformat_minor": 4
}
