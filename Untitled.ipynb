{
 "cells": [
  {
   "cell_type": "code",
   "execution_count": 1,
   "metadata": {},
   "outputs": [],
   "source": [
    "%load_ext autoreload\n",
    "%autoreload 2"
   ]
  },
  {
   "cell_type": "code",
   "execution_count": 2,
   "metadata": {},
   "outputs": [],
   "source": [
    "import config\n",
    "import pickle\n",
    "from data_loader import get_loader,CocoDataset\n",
    "from build_vocab import Vocabulary"
   ]
  },
  {
   "cell_type": "code",
   "execution_count": 3,
   "metadata": {},
   "outputs": [],
   "source": [
    "from torchvision import models\n",
    "import torch"
   ]
  },
  {
   "cell_type": "code",
   "execution_count": 4,
   "metadata": {},
   "outputs": [],
   "source": [
    "with open(config.VOCAB_PATH, 'rb') as f:\n",
    "    vocab = pickle.load(f)\n",
    "\n",
    "TRAIN_LOADER = {'root':config.TRAIN_FEATURE_PATH, 'json':config.TRAIN_JSON_PATH, 'vocab':vocab, 'batch_size':32, 'shuffle':True, 'num_workers':4}\n",
    "VAL_LOADER = {'root':config.VAL_FEATURE_PATH, 'json':config.VAL_JSON_PATH, 'vocab':vocab, 'batch_size':32, 'shuffle':False, 'num_workers':4}"
   ]
  },
  {
   "cell_type": "code",
   "execution_count": 5,
   "metadata": {},
   "outputs": [
    {
     "name": "stdout",
     "output_type": "stream",
     "text": [
      "loading annotations into memory...\n",
      "Done (t=0.71s)\n",
      "creating index...\n",
      "index created!\n",
      "loading annotations into memory...\n",
      "Done (t=0.38s)\n",
      "creating index...\n",
      "index created!\n"
     ]
    }
   ],
   "source": [
    "train_loader = get_loader(**TRAIN_LOADER)\n",
    "val_loader = get_loader(**VAL_LOADER)"
   ]
  },
  {
   "cell_type": "code",
   "execution_count": 6,
   "metadata": {},
   "outputs": [
    {
     "data": {
      "text/plain": [
       "4530"
      ]
     },
     "execution_count": 6,
     "metadata": {},
     "output_type": "execute_result"
    }
   ],
   "source": [
    "vocab_size = len(vocab)\n",
    "vocab_size"
   ]
  },
  {
   "cell_type": "code",
   "execution_count": null,
   "metadata": {},
   "outputs": [
    {
     "name": "stderr",
     "output_type": "stream",
     "text": [
      "  0%|          | 1/12942 [00:00<1:27:34,  2.46it/s]"
     ]
    },
    {
     "name": "stdout",
     "output_type": "stream",
     "text": [
      "8.437864303588867\n"
     ]
    },
    {
     "name": "stderr",
     "output_type": "stream",
     "text": [
      "  8%|▊         | 1004/12942 [00:48<10:38, 18.69it/s]"
     ]
    },
    {
     "name": "stdout",
     "output_type": "stream",
     "text": [
      "4.183603286743164\n"
     ]
    },
    {
     "name": "stderr",
     "output_type": "stream",
     "text": [
      " 15%|█▌        | 2005/12942 [01:37<08:04, 22.57it/s]"
     ]
    },
    {
     "name": "stdout",
     "output_type": "stream",
     "text": [
      "3.9741995334625244\n"
     ]
    },
    {
     "name": "stderr",
     "output_type": "stream",
     "text": [
      " 23%|██▎       | 3002/12942 [02:26<12:21, 13.40it/s]  "
     ]
    },
    {
     "name": "stdout",
     "output_type": "stream",
     "text": [
      "4.046089172363281\n"
     ]
    },
    {
     "name": "stderr",
     "output_type": "stream",
     "text": [
      " 31%|███       | 4004/12942 [03:14<06:43, 22.17it/s]"
     ]
    },
    {
     "name": "stdout",
     "output_type": "stream",
     "text": [
      "3.81294584274292\n"
     ]
    },
    {
     "name": "stderr",
     "output_type": "stream",
     "text": [
      " 39%|███▊      | 5002/12942 [04:03<06:14, 21.18it/s]"
     ]
    },
    {
     "name": "stdout",
     "output_type": "stream",
     "text": [
      "3.6298117637634277\n"
     ]
    },
    {
     "name": "stderr",
     "output_type": "stream",
     "text": [
      " 46%|████▋     | 6005/12942 [04:52<05:14, 22.08it/s]"
     ]
    },
    {
     "name": "stdout",
     "output_type": "stream",
     "text": [
      "3.885234832763672\n"
     ]
    },
    {
     "name": "stderr",
     "output_type": "stream",
     "text": [
      " 54%|█████▍    | 7003/12942 [05:40<04:36, 21.47it/s]"
     ]
    },
    {
     "name": "stdout",
     "output_type": "stream",
     "text": [
      "3.944934368133545\n"
     ]
    },
    {
     "name": "stderr",
     "output_type": "stream",
     "text": [
      " 62%|██████▏   | 8001/12942 [06:28<04:01, 20.49it/s]"
     ]
    },
    {
     "name": "stdout",
     "output_type": "stream",
     "text": [
      "3.1592273712158203\n"
     ]
    },
    {
     "name": "stderr",
     "output_type": "stream",
     "text": [
      " 70%|██████▉   | 9005/12942 [07:15<02:54, 22.56it/s]"
     ]
    },
    {
     "name": "stdout",
     "output_type": "stream",
     "text": [
      "3.047868490219116\n"
     ]
    },
    {
     "name": "stderr",
     "output_type": "stream",
     "text": [
      " 77%|███████▋  | 10003/12942 [08:04<02:22, 20.62it/s]"
     ]
    },
    {
     "name": "stdout",
     "output_type": "stream",
     "text": [
      "3.112248182296753\n"
     ]
    },
    {
     "name": "stderr",
     "output_type": "stream",
     "text": [
      " 85%|████████▌ | 11003/12942 [08:54<01:40, 19.27it/s]"
     ]
    },
    {
     "name": "stdout",
     "output_type": "stream",
     "text": [
      "3.3203375339508057\n"
     ]
    },
    {
     "name": "stderr",
     "output_type": "stream",
     "text": [
      " 93%|█████████▎| 12003/12942 [09:43<00:44, 20.87it/s]"
     ]
    },
    {
     "name": "stdout",
     "output_type": "stream",
     "text": [
      "3.2571170330047607\n"
     ]
    },
    {
     "name": "stderr",
     "output_type": "stream",
     "text": [
      "100%|██████████| 12942/12942 [10:28<00:00, 20.59it/s]\n",
      "  0%|          | 0/12942 [00:00<?, ?it/s]"
     ]
    },
    {
     "name": "stdout",
     "output_type": "stream",
     "text": [
      "3.612608749998019\n"
     ]
    },
    {
     "name": "stderr",
     "output_type": "stream",
     "text": [
      "\r",
      "  0%|          | 1/12942 [00:00<1:38:20,  2.19it/s]"
     ]
    },
    {
     "name": "stdout",
     "output_type": "stream",
     "text": [
      "torch.Size([32, 23])\n",
      "a man with a side a up to on . a <unk> . a street . a . . a <unk> . <end> ------------\n",
      "a man parked a red on motorcycle a a street . a a front city . . <end> skiier skiier skiier skiier skiier ------------\n",
      "a people are a beach beach with a water . a . a a of <end> skiier skiier skiier skiier skiier skiier skiier ------------\n",
      "a man white white lot with on to a road . the street . <end> skiier skiier skiier skiier skiier skiier skiier skiier ------------\n",
      "a man with a cake on with a and a glass of food . <end> skiier skiier skiier skiier skiier skiier skiier skiier ------------\n",
      "a black with with a television with a building . . a desk . <end> skiier skiier skiier skiier skiier skiier skiier skiier ------------\n",
      "a man with a red <unk> a <unk> of a <unk> . . <end> skiier skiier skiier skiier skiier skiier skiier skiier skiier ------------\n",
      "a boy with on a park with with a frisbee bear bear . <end> skiier skiier skiier skiier skiier skiier skiier skiier skiier ------------\n",
      "a woman and in a woman child sitting a in to a other . skiier skiier skiier skiier skiier skiier skiier skiier skiier ------------\n",
      "a toilet with at a on on a of a table . . <end> skiier skiier skiier skiier skiier skiier skiier skiier skiier ------------\n",
      "a and on a and in a grass in the field street . <end> skiier skiier skiier skiier skiier skiier skiier skiier skiier ------------\n",
      "a and with street a on the street on . . the . skiier skiier skiier skiier skiier skiier skiier skiier skiier skiier ------------\n",
      "a man of people standing a in a a woman cake . <end> skiier skiier skiier skiier skiier skiier skiier skiier skiier skiier ------------\n",
      "a man standing a kitchen with ready a of a oven . <end> skiier skiier skiier skiier skiier skiier skiier skiier skiier skiier ------------\n",
      "a woman with a tennis court holding to a racket racket . <end> skiier skiier skiier skiier skiier skiier skiier skiier skiier skiier ------------\n",
      "a man with a laptop desk a computer . on a table . skiier skiier skiier skiier skiier skiier skiier skiier skiier skiier ------------\n",
      "a bathroom bathroom with on a <unk> and a bathroom <end> <end> skiier skiier skiier skiier skiier skiier skiier skiier skiier skiier skiier ------------\n",
      "a man holding next a old table holding a bench . <end> skiier skiier skiier skiier skiier skiier skiier skiier skiier skiier skiier ------------\n",
      "a motorcycle on is parked a street street a street . <end> skiier skiier skiier skiier skiier skiier skiier skiier skiier skiier skiier ------------\n",
      "a women sitting up each other in of a kitchen . <end> skiier skiier skiier skiier skiier skiier skiier skiier skiier skiier skiier ------------\n",
      "a man holding holding a cell on a laptop of . <end> skiier skiier skiier skiier skiier skiier skiier skiier skiier skiier skiier ------------\n",
      "a cat laying a laying on top of a bed . <end> skiier skiier skiier skiier skiier skiier skiier skiier skiier skiier skiier ------------\n",
      "a plate of food with a a and a on <end> skiier skiier skiier skiier skiier skiier skiier skiier skiier skiier skiier skiier ------------\n",
      "a plate with with a and and on a . <end> skiier skiier skiier skiier skiier skiier skiier skiier skiier skiier skiier skiier ------------\n",
      "a white of a with a clock on on it of skiier skiier skiier skiier skiier skiier skiier skiier skiier skiier skiier skiier ------------\n",
      "a bus decker bus on a a street street . <end> skiier skiier skiier skiier skiier skiier skiier skiier skiier skiier skiier skiier ------------\n",
      "a in a umbrella on on a beach . . skiier skiier skiier skiier skiier skiier skiier skiier skiier skiier skiier skiier skiier ------------\n",
      "a computer with with with on top desk desk . skiier skiier skiier skiier skiier skiier skiier skiier skiier skiier skiier skiier skiier ------------\n",
      "a person and on on down the snow . <end> skiier skiier skiier skiier skiier skiier skiier skiier skiier skiier skiier skiier skiier ------------\n",
      "a man is a hat in a park <end> <end> skiier skiier skiier skiier skiier skiier skiier skiier skiier skiier skiier skiier skiier ------------\n",
      "a people and a in in tree . <end> skiier skiier skiier skiier skiier skiier skiier skiier skiier skiier skiier skiier skiier skiier ------------\n",
      "a white with a <unk> and a of <end> skiier skiier skiier skiier skiier skiier skiier skiier skiier skiier skiier skiier skiier skiier ------------\n",
      "3.436298370361328\n"
     ]
    },
    {
     "name": "stderr",
     "output_type": "stream",
     "text": [
      "  8%|▊         | 1002/12942 [00:47<09:43, 20.45it/s]"
     ]
    },
    {
     "name": "stdout",
     "output_type": "stream",
     "text": [
      "torch.Size([32, 17])\n",
      "a small and white fire is on top of a tree . . a tree . <end> ------------\n",
      "a plate of food with a sandwich of fruit and . a table table . <end> skiier ------------\n",
      "a man is a skateboard with a is holding to hit to the . . <end> skiier ------------\n",
      "a people a and on a white with a . table <unk> table <unk> <end> skiier skiier ------------\n",
      "a plate of a <unk> of food on a and and , cheese . <end> skiier skiier ------------\n",
      "a and and and and yellow train station a with a . it . <end> skiier skiier ------------\n",
      "a man sitting on a table <unk> to a train . a . <end> skiier skiier skiier ------------\n",
      "a man of people riding a on a street of a city . <end> skiier skiier skiier ------------\n",
      "a people standing in the beach of a beach beach water ocean . <end> skiier skiier skiier ------------\n",
      "a man vase and and a vase <end> a wall . . . <end> skiier skiier skiier ------------\n",
      "a table with a table white and a table . a . <end> skiier skiier skiier skiier ------------\n",
      "a man holding holding a laptop dog in . a camera . <end> skiier skiier skiier skiier ------------\n",
      "a man in a cell of food on a hand . . <end> skiier skiier skiier skiier ------------\n",
      "a kitchen of a with sitting with <unk> of a . . <end> skiier skiier skiier skiier ------------\n",
      "a <unk> man is <unk> <unk> in is in . phone . <end> skiier skiier skiier skiier ------------\n",
      "a clock on on a clock on on a desk . <end> skiier skiier skiier skiier skiier ------------\n",
      "a and bananas are on a on a table . . <end> skiier skiier skiier skiier skiier ------------\n",
      "a train train white photo is on down the tracks . <end> skiier skiier skiier skiier skiier ------------\n",
      "a person on a snowboard with a on a the snow . skiier skiier skiier skiier skiier ------------\n",
      "a bathroom with a sink and sink , a . . <end> skiier skiier skiier skiier skiier ------------\n",
      "a group of people sitting on a table with a . <end> skiier skiier skiier skiier skiier ------------\n",
      "a in of for in in in a dogs . . skiier skiier skiier skiier skiier skiier ------------\n",
      "a is a train in and in the old city . skiier skiier skiier skiier skiier skiier ------------\n",
      "a in to a frisbee ball in a field . <end> skiier skiier skiier skiier skiier skiier ------------\n",
      "a man is riding on a motorcycle in a baseball <end> skiier skiier skiier skiier skiier skiier ------------\n",
      "a cat <unk> a on in a laptop . a . skiier skiier skiier skiier skiier skiier ------------\n",
      "a baby is a grassy with a tree of trees . skiier skiier skiier skiier skiier skiier ------------\n",
      "a skier skiing up a air on skis . . skiier skiier skiier skiier skiier skiier skiier ------------\n",
      "a <unk> of is on on of the side . skiier skiier skiier skiier skiier skiier skiier ------------\n",
      "a street sign on a signs on a airport . skiier skiier skiier skiier skiier skiier skiier ------------\n",
      "a plate of with food food and vegetables . skiier skiier skiier skiier skiier skiier skiier skiier ------------\n",
      "a group boy in in a red ball on skiier skiier skiier skiier skiier skiier skiier skiier ------------\n",
      "3.207603931427002\n"
     ]
    },
    {
     "name": "stderr",
     "output_type": "stream",
     "text": [
      " 15%|█▌        | 2001/12942 [01:37<10:18, 17.70it/s]  "
     ]
    },
    {
     "name": "stdout",
     "output_type": "stream",
     "text": [
      "torch.Size([32, 17])\n",
      "a vase table is a with a and sitting . a knife white . top of <end> ------------\n",
      "a cat is a head on in on a head . the window . . <end> skiier ------------\n",
      "a giraffe is in a of a tree green field . <end> a . <end> skiier skiier ------------\n",
      "a woman man with with a laptop on a of a laptop . <end> skiier skiier skiier ------------\n",
      "a man is a skateboard in a racket . . the air . <end> skiier skiier skiier ------------\n",
      "a giraffes standing in a grass in a standing large and in is <end> skiier skiier skiier ------------\n",
      "a man of a flying up a snowy . . man . . . skiier skiier skiier ------------\n",
      "a man is on top bench with holding on a cell . <end> skiier skiier skiier skiier ------------\n",
      "a man are in a room with standing is a . <end> skiier skiier skiier skiier skiier ------------\n",
      "a dog dog dog sitting on top of a bed . <end> skiier skiier skiier skiier skiier ------------\n",
      "a bear bear is standing next to a . a water . skiier skiier skiier skiier skiier ------------\n",
      "a white bird with a <unk> and and , it <end> skiier skiier skiier skiier skiier skiier ------------\n",
      "a baseball player is swinging on catch a ball . <end> skiier skiier skiier skiier skiier skiier ------------\n",
      "a cat of sitting a bear bear is out . <end> skiier skiier skiier skiier skiier skiier ------------\n",
      "a motorcycle truck sitting in a of a building . <end> skiier skiier skiier skiier skiier skiier ------------\n",
      "a train traveling on a train train . a train . skiier skiier skiier skiier skiier skiier ------------\n",
      "a is a car of a and down the city . skiier skiier skiier skiier skiier skiier ------------\n",
      "a herd white grazing in a grassy <end> grass . <end> skiier skiier skiier skiier skiier skiier ------------\n",
      "a woman holding holding a picture of of a food . skiier skiier skiier skiier skiier skiier ------------\n",
      "a standing a a in of the . . <end> skiier skiier skiier skiier skiier skiier skiier ------------\n",
      "a people are on top field with a . <end> skiier skiier skiier skiier skiier skiier skiier ------------\n",
      "a pizza plate with pizza and a sandwich . <end> skiier skiier skiier skiier skiier skiier skiier ------------\n",
      "a and a room sitting and a table . <end> skiier skiier skiier skiier skiier skiier skiier ------------\n",
      "a of sitting a vase vase with flowers . <end> skiier skiier skiier skiier skiier skiier skiier ------------\n",
      "a elephant is standing a a head . . <end> skiier skiier skiier skiier skiier skiier skiier ------------\n",
      "a is are in a and on on the . skiier skiier skiier skiier skiier skiier skiier ------------\n",
      "a is many food vegetables and on a table . skiier skiier skiier skiier skiier skiier skiier ------------\n",
      "a dog is a and a on in a <end> skiier skiier skiier skiier skiier skiier skiier ------------\n",
      "a plate bowl plate with a food and it . skiier skiier skiier skiier skiier skiier skiier ------------\n",
      "a plate with a on a table table . skiier skiier skiier skiier skiier skiier skiier skiier ------------\n",
      "a is two zebras in in a tree . skiier skiier skiier skiier skiier skiier skiier skiier ------------\n",
      "a small of with a and and a . skiier skiier skiier skiier skiier skiier skiier skiier ------------\n",
      "3.209238052368164\n"
     ]
    },
    {
     "name": "stderr",
     "output_type": "stream",
     "text": [
      " 23%|██▎       | 3003/12942 [02:27<08:49, 18.76it/s]"
     ]
    },
    {
     "name": "stdout",
     "output_type": "stream",
     "text": [
      "torch.Size([32, 22])\n",
      "a man building of a building and a car . a of a building building . a . the of it . ------------\n",
      "a red of a street with a street and . it side . a . down the street . <end> skiier skiier ------------\n",
      "a group baseball with to with a ready to a a man of . people of like a <end> skiier skiier skiier ------------\n",
      "a pizza with with a sandwich , on and , cheese of pizza . <end> skiier skiier skiier skiier skiier skiier skiier ------------\n",
      "a large vase with with with a and and other cup and flowers . <end> skiier skiier skiier skiier skiier skiier skiier ------------\n",
      "a white up of a white on a toilet of a . . <end> skiier skiier skiier skiier skiier skiier skiier skiier ------------\n",
      "a man holding in a tennis court holding to a ball . . <end> skiier skiier skiier skiier skiier skiier skiier skiier ------------\n",
      "a man and white with with in has of be <unk> . <end> skiier skiier skiier skiier skiier skiier skiier skiier skiier ------------\n",
      "a man with a cell phone in a <unk> . a . <end> skiier skiier skiier skiier skiier skiier skiier skiier skiier ------------\n",
      "a truck is a lot on the street of . the road . skiier skiier skiier skiier skiier skiier skiier skiier skiier ------------\n",
      "a cat with a bears sitting on a . a room . <end> skiier skiier skiier skiier skiier skiier skiier skiier skiier ------------\n",
      "a street walking on a stop train on a street street . <end> skiier skiier skiier skiier skiier skiier skiier skiier skiier ------------\n",
      "a horses grazing in a field grass a field sky . <end> skiier skiier skiier skiier skiier skiier skiier skiier skiier skiier ------------\n",
      "a white of a toilet and on a window . . <end> skiier skiier skiier skiier skiier skiier skiier skiier skiier skiier ------------\n",
      "a people are a man holding a table . a <end> <end> skiier skiier skiier skiier skiier skiier skiier skiier skiier skiier ------------\n",
      "a man riding a motorcycle on riding on a motorcycle . <end> skiier skiier skiier skiier skiier skiier skiier skiier skiier skiier ------------\n",
      "a man skier is on to a <end> a camera . <end> skiier skiier skiier skiier skiier skiier skiier skiier skiier skiier ------------\n",
      "a man is a ski snow on skiing <unk> phone . <end> skiier skiier skiier skiier skiier skiier skiier skiier skiier skiier ------------\n",
      "a people are are up picture of with a <unk> . <end> skiier skiier skiier skiier skiier skiier skiier skiier skiier skiier ------------\n",
      "a people are a beach with a of flying a kite . skiier skiier skiier skiier skiier skiier skiier skiier skiier skiier ------------\n",
      "a man is riding a <unk> on a a surfboard . <end> skiier skiier skiier skiier skiier skiier skiier skiier skiier skiier ------------\n",
      "a man riding on a surfboard on the water . <end> skiier skiier skiier skiier skiier skiier skiier skiier skiier skiier skiier ------------\n",
      "a and are in a in a field day . <end> skiier skiier skiier skiier skiier skiier skiier skiier skiier skiier skiier ------------\n",
      "a plates of a different are a plate table . <end> skiier skiier skiier skiier skiier skiier skiier skiier skiier skiier skiier ------------\n",
      "a man holding to hit a tennis ball . <end> skiier skiier skiier skiier skiier skiier skiier skiier skiier skiier skiier skiier ------------\n",
      "a people men standing on a a buildings . <end> skiier skiier skiier skiier skiier skiier skiier skiier skiier skiier skiier skiier ------------\n",
      "a clock and tower on a street clock . <end> skiier skiier skiier skiier skiier skiier skiier skiier skiier skiier skiier skiier ------------\n",
      "a man of people in standing in a with . skiier skiier skiier skiier skiier skiier skiier skiier skiier skiier skiier skiier ------------\n",
      "a woman eating is sitting a a table with <end> skiier skiier skiier skiier skiier skiier skiier skiier skiier skiier skiier skiier ------------\n",
      "a people playing a baseball field . frisbee <end> skiier skiier skiier skiier skiier skiier skiier skiier skiier skiier skiier skiier skiier ------------\n",
      "a signs on a with a stop street . skiier skiier skiier skiier skiier skiier skiier skiier skiier skiier skiier skiier skiier ------------\n",
      "a vase child with a different on a . skiier skiier skiier skiier skiier skiier skiier skiier skiier skiier skiier skiier skiier ------------\n",
      "2.974828004837036\n"
     ]
    },
    {
     "name": "stderr",
     "output_type": "stream",
     "text": [
      " 31%|███       | 4001/12942 [03:16<07:31, 19.79it/s]"
     ]
    },
    {
     "name": "stdout",
     "output_type": "stream",
     "text": [
      "torch.Size([32, 17])\n",
      "a plate of pizza pizza on a plate with to a cup <end> food . . <end> ------------\n",
      "a man of cake of pizza with is to on a plate . . the . <end> ------------\n",
      "a bathroom bathroom is a <unk> in toilet toilet and and a sink . . <end> skiier ------------\n",
      "a person is in a mountain on at . a mountain . . <end> skiier skiier skiier ------------\n",
      "a men are a grass of a field with a a frisbee and <end> skiier skiier skiier ------------\n",
      "a group and with a and <unk> with a window wall . . <end> skiier skiier skiier ------------\n",
      "a plate with with on a table table with a table . . skiier skiier skiier skiier ------------\n",
      "a man man holding a tennis of a in a hand . <end> skiier skiier skiier skiier ------------\n",
      "a skier of a snowboard of down a hill slope . mountain . skiier skiier skiier skiier ------------\n",
      "a group of people are on a with a boat umbrella . <end> skiier skiier skiier skiier ------------\n",
      "a vase large with with a flowers on on a vase . <end> skiier skiier skiier skiier ------------\n",
      "a motorcycle and and in front parking lot . be street . <end> skiier skiier skiier skiier ------------\n",
      "a is a people are down in skateboard . . . . skiier skiier skiier skiier skiier ------------\n",
      "a and in on the boat of a trees sky . <end> skiier skiier skiier skiier skiier ------------\n",
      "a man boy is a baseball bat on a field . <end> skiier skiier skiier skiier skiier ------------\n",
      "a man with a street on on on . side side . skiier skiier skiier skiier skiier ------------\n",
      "a red is on motorcycle down to a bus street . <end> skiier skiier skiier skiier skiier ------------\n",
      "a and on a bowl with a a table table . <end> skiier skiier skiier skiier skiier ------------\n",
      "a man and a of is a a baseball . <end> skiier skiier skiier skiier skiier skiier ------------\n",
      "a blue meter on on to a street . . <end> skiier skiier skiier skiier skiier skiier ------------\n",
      "a kites are a field field with flying kites kite . skiier skiier skiier skiier skiier skiier ------------\n",
      "a <unk> is sitting a water on a side . <end> skiier skiier skiier skiier skiier skiier ------------\n",
      "a playing to a racket on a . tennis . <end> skiier skiier skiier skiier skiier skiier ------------\n",
      "a man is on a bench in a middle . <end> skiier skiier skiier skiier skiier skiier ------------\n",
      "a motorcycle on on a <unk> in of building . . skiier skiier skiier skiier skiier skiier ------------\n",
      "a man on a skis on the snow . <end> skiier skiier skiier skiier skiier skiier skiier ------------\n",
      "a cat sitting sitting a car truck a . <end> skiier skiier skiier skiier skiier skiier skiier ------------\n",
      "a is a man motorcycle in on the grass . skiier skiier skiier skiier skiier skiier skiier ------------\n",
      "a table cake is with on a on . . skiier skiier skiier skiier skiier skiier skiier ------------\n",
      "a giraffes giraffe are standing in the grass . <end> skiier skiier skiier skiier skiier skiier skiier ------------\n",
      "a white people on on a field field . skiier skiier skiier skiier skiier skiier skiier skiier ------------\n",
      "a people is standing a camera elephants in . skiier skiier skiier skiier skiier skiier skiier skiier ------------\n",
      "3.1565968990325928\n"
     ]
    },
    {
     "name": "stderr",
     "output_type": "stream",
     "text": [
      " 39%|███▊      | 5003/12942 [04:04<06:38, 19.91it/s]"
     ]
    },
    {
     "name": "stdout",
     "output_type": "stream",
     "text": [
      "torch.Size([32, 19])\n",
      "a white is phone is a <unk> table on it bowl <end> it table . . it . <end> ------------\n",
      "a man is a black shirt and a and . a black and . a <unk> . <end> skiier ------------\n",
      "a bird bird white dog is a <unk> dog <unk> and and . . . . <end> skiier skiier ------------\n",
      "a red truck truck parked a truck truck . parked on to a bus . <end> skiier skiier skiier ------------\n",
      "a large boat with the water with water the the river . . body . <end> skiier skiier skiier ------------\n",
      "a woman holding a shirt shirt holding glasses cell . a table . . <end> skiier skiier skiier skiier ------------\n",
      "a open <unk> is a window room with . a bed . a <end> skiier skiier skiier skiier skiier ------------\n",
      "a man man in a woman standing playing a game in . <end> skiier skiier skiier skiier skiier skiier ------------\n",
      "a trains train to a train tracks on on the tracks . <end> skiier skiier skiier skiier skiier skiier ------------\n",
      "a train is a train in a a a train train . <end> skiier skiier skiier skiier skiier skiier ------------\n",
      "a men playing a field playing with . a . the background . skiier skiier skiier skiier skiier skiier ------------\n",
      "a person parked on to a street of a street . <end> skiier skiier skiier skiier skiier skiier skiier ------------\n",
      "a woman girl sitting a video on a living room . <end> skiier skiier skiier skiier skiier skiier skiier ------------\n",
      "a man is is riding on the in the snow . <end> skiier skiier skiier skiier skiier skiier skiier ------------\n",
      "a group standing down a a field with a horses . <end> skiier skiier skiier skiier skiier skiier skiier ------------\n",
      "a woman is playing tennis on a <unk> court court . <end> skiier skiier skiier skiier skiier skiier skiier ------------\n",
      "a train train train white train train the train <end> . skiier skiier skiier skiier skiier skiier skiier skiier ------------\n",
      "a woman with a pizza with a pizza of food . skiier skiier skiier skiier skiier skiier skiier skiier ------------\n",
      "a close with sitting on <unk> <unk> of it . <end> skiier skiier skiier skiier skiier skiier skiier skiier ------------\n",
      "a street signs and a of a street pole . <end> skiier skiier skiier skiier skiier skiier skiier skiier ------------\n",
      "a table room with with a window and to a <end> skiier skiier skiier skiier skiier skiier skiier skiier ------------\n",
      "a man man is a snow in on snow . <end> skiier skiier skiier skiier skiier skiier skiier skiier ------------\n",
      "a man riding a umbrella on up the air . <end> skiier skiier skiier skiier skiier skiier skiier skiier ------------\n",
      "a kitchen is a <unk> in a glass window <end> <end> skiier skiier skiier skiier skiier skiier skiier skiier ------------\n",
      "a plate and sitting on to a table of coffee . skiier skiier skiier skiier skiier skiier skiier skiier ------------\n",
      "a of in a covered a large bear . <end> skiier skiier skiier skiier skiier skiier skiier skiier skiier ------------\n",
      "a large of with of on a table . <end> skiier skiier skiier skiier skiier skiier skiier skiier skiier ------------\n",
      "a large of a and to a clock . . skiier skiier skiier skiier skiier skiier skiier skiier skiier ------------\n",
      "a woman girl holding a tennis frisbee holding . <end> skiier skiier skiier skiier skiier skiier skiier skiier skiier ------------\n",
      "a cat cat laying a bed in with a . skiier skiier skiier skiier skiier skiier skiier skiier skiier ------------\n",
      "a cake of a different types of bananas . skiier skiier skiier skiier skiier skiier skiier skiier skiier skiier ------------\n",
      "a woman girl sitting a bench bench bench . skiier skiier skiier skiier skiier skiier skiier skiier skiier skiier ------------\n",
      "2.8390493392944336\n"
     ]
    },
    {
     "name": "stderr",
     "output_type": "stream",
     "text": [
      " 46%|████▋     | 6001/12942 [04:51<06:18, 18.34it/s]"
     ]
    },
    {
     "name": "stdout",
     "output_type": "stream",
     "text": [
      "torch.Size([32, 18])\n",
      "a bathroom bathroom with sink a sink and . . . <unk> window . . . . <end> ------------\n",
      "a plate is sitting a table top to a bowl . food . a . . <end> skiier ------------\n",
      "a man is a a laptop of a tie . and and and a and <end> skiier skiier ------------\n",
      "a plate of <unk> sitting on on top table . to a table . coffee . skiier skiier ------------\n",
      "a women are on a table holding <unk> in holding on a <unk> . <end> skiier skiier skiier ------------\n",
      "a large bear bear walking in to a tree fence . a large . <end> skiier skiier skiier ------------\n",
      "a white and white cat of a old and . a room . . <end> skiier skiier skiier ------------\n",
      "a large <unk> sitting a on and and and , a items . . <end> skiier skiier skiier ------------\n",
      "a holding a sitting a table of food . and and a . <end> skiier skiier skiier skiier ------------\n",
      "a man boat is on a field with a beach of a water . skiier skiier skiier skiier ------------\n",
      "a person riding a of a snow on a snowy day . <end> skiier skiier skiier skiier skiier ------------\n",
      "a baseball player is a ball at to a a the ball . skiier skiier skiier skiier skiier ------------\n",
      "a man man riding a snowboard on a of a covered <end> skiier skiier skiier skiier skiier skiier ------------\n",
      "a plate with a plate with a and broccoli . a on skiier skiier skiier skiier skiier skiier ------------\n",
      "a man is a and a on with a a field . skiier skiier skiier skiier skiier skiier ------------\n",
      "a group of sheep and standing in in a field . <end> skiier skiier skiier skiier skiier skiier ------------\n",
      "a laptop <unk> desk at with a computer . a . <end> skiier skiier skiier skiier skiier skiier ------------\n",
      "a plate is a , a sandwich on a plate plate . skiier skiier skiier skiier skiier skiier ------------\n",
      "a bathroom with a and and and a . . . <end> skiier skiier skiier skiier skiier skiier ------------\n",
      "a man up of a pizza on a pizza of pizza . skiier skiier skiier skiier skiier skiier ------------\n",
      "a hot of a with a of a and dogs . <end> skiier skiier skiier skiier skiier skiier ------------\n",
      "a living bed with to a with a . the <end> skiier skiier skiier skiier skiier skiier skiier ------------\n",
      "a plate with with a food on on a . <end> skiier skiier skiier skiier skiier skiier skiier ------------\n",
      "a person is a surfboard in on on the . <end> skiier skiier skiier skiier skiier skiier skiier ------------\n",
      "a desk with a desk , a <unk> items <end> <end> skiier skiier skiier skiier skiier skiier skiier ------------\n",
      "a baseball player is a bat at a plate <end> <end> skiier skiier skiier skiier skiier skiier skiier ------------\n",
      "a man riding a surfboard in a beach . <end> skiier skiier skiier skiier skiier skiier skiier skiier ------------\n",
      "a kitchen kitchen with a in a oven oven and skiier skiier skiier skiier skiier skiier skiier skiier ------------\n",
      "a are a white are a middle with . <end> skiier skiier skiier skiier skiier skiier skiier skiier ------------\n",
      "a kitchen a kitchen in kitchen with a kitchen . skiier skiier skiier skiier skiier skiier skiier skiier ------------\n",
      "a toilet with a and a mirror of a <end> skiier skiier skiier skiier skiier skiier skiier skiier ------------\n",
      "a is many people sitting are on is . skiier skiier skiier skiier skiier skiier skiier skiier skiier ------------\n",
      "3.109293222427368\n"
     ]
    },
    {
     "name": "stderr",
     "output_type": "stream",
     "text": [
      " 47%|████▋     | 6145/12942 [05:00<06:25, 17.64it/s]"
     ]
    }
   ],
   "source": [
    "device = torch.device(\"cuda\" if torch.cuda.is_available() else \"cpu\") \n",
    "from torch import nn,optim\n",
    "from model import EncoderCNN,DecoderRNN\n",
    "from torch.nn.utils.rnn import pack_padded_sequence\n",
    "from tqdm import tqdm\n",
    "encoder = EncoderCNN(512,image_dim=256)\n",
    "encoder.to(device)\n",
    "decoder = DecoderRNN(256,300,300,vocab_size)\n",
    "decoder.to(device)\n",
    "enc_optimizer = optim.SGD(encoder.parameters(),lr=1e-4,momentum=0.9)\n",
    "dec_optimizer = optim.SGD(decoder.parameters(),lr=1e-2,momentum=0.9)\n",
    "for epoch in range(10):\n",
    "    total_loss = 0\n",
    "    for i,data in enumerate(tqdm(train_loader)):\n",
    "        enc_optimizer.zero_grad()\n",
    "        dec_optimizer.zero_grad()\n",
    "        images,captions,lengths = data\n",
    "        images = images.to(device)\n",
    "        captions = captions.to(device)\n",
    "        encoded_images = encoder(images)\n",
    "        predictions,captions,lengths,alphas = decoder(encoded_images,captions,lengths)\n",
    "        if i%1000 ==0 and epoch ==1:\n",
    "            predicted = predictions.argmax(dim=2)\n",
    "            print(predicted.shape)\n",
    "            for sentence in predicted:\n",
    "                for word in sentence:\n",
    "                    print(vocab.idx2word[word.cpu().detach().item()],end=\" \")\n",
    "                print(\"------------\")\n",
    "        targets = captions[:, 1:]\n",
    "        scores, _,_,_ = pack_padded_sequence(predictions, lengths, batch_first=True)\n",
    "        targets, _,_,_ = pack_padded_sequence(targets, lengths, batch_first=True)\n",
    "        # Calculate loss\n",
    "        loss = nn.CrossEntropyLoss()(scores, targets)\n",
    "        if i%1000 == 0:\n",
    "            print(loss.item())\n",
    "        loss.backward()\n",
    "        enc_optimizer.step()\n",
    "        dec_optimizer.step()\n",
    "        total_loss += loss.item()\n",
    "\n",
    "    print(total_loss/len(train_loader))"
   ]
  },
  {
   "cell_type": "code",
   "execution_count": 62,
   "metadata": {},
   "outputs": [
    {
     "data": {
      "text/plain": [
       "'<end>'"
      ]
     },
     "execution_count": 62,
     "metadata": {},
     "output_type": "execute_result"
    }
   ],
   "source": [
    "vocab.idx2word[2]"
   ]
  },
  {
   "cell_type": "code",
   "execution_count": 29,
   "metadata": {},
   "outputs": [
    {
     "ename": "KeyError",
     "evalue": "4530",
     "output_type": "error",
     "traceback": [
      "\u001b[0;31m---------------------------------------------------------------------------\u001b[0m",
      "\u001b[0;31mKeyError\u001b[0m                                  Traceback (most recent call last)",
      "\u001b[0;32m<ipython-input-29-4b15f405a4f2>\u001b[0m in \u001b[0;36m<module>\u001b[0;34m\u001b[0m\n\u001b[0;32m----> 1\u001b[0;31m \u001b[0mvocab\u001b[0m\u001b[0;34m.\u001b[0m\u001b[0midx2word\u001b[0m\u001b[0;34m[\u001b[0m\u001b[0;36m4530\u001b[0m\u001b[0;34m]\u001b[0m\u001b[0;34m\u001b[0m\u001b[0;34m\u001b[0m\u001b[0m\n\u001b[0m",
      "\u001b[0;31mKeyError\u001b[0m: 4530"
     ]
    }
   ],
   "source": []
  },
  {
   "cell_type": "code",
   "execution_count": null,
   "metadata": {},
   "outputs": [],
   "source": []
  }
 ],
 "metadata": {
  "kernelspec": {
   "display_name": "Python 3",
   "language": "python",
   "name": "python3"
  },
  "language_info": {
   "codemirror_mode": {
    "name": "ipython",
    "version": 3
   },
   "file_extension": ".py",
   "mimetype": "text/x-python",
   "name": "python",
   "nbconvert_exporter": "python",
   "pygments_lexer": "ipython3",
   "version": "3.6.10"
  }
 },
 "nbformat": 4,
 "nbformat_minor": 4
}
