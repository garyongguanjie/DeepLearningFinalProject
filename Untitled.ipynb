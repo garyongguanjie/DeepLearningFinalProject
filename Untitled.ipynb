{
 "cells": [
  {
   "cell_type": "code",
   "execution_count": 48,
   "metadata": {},
   "outputs": [
    {
     "name": "stdout",
     "output_type": "stream",
     "text": [
      "The autoreload extension is already loaded. To reload it, use:\n",
      "  %reload_ext autoreload\n"
     ]
    }
   ],
   "source": [
    "%load_ext autoreload\n",
    "%autoreload 2"
   ]
  },
  {
   "cell_type": "code",
   "execution_count": 49,
   "metadata": {},
   "outputs": [],
   "source": [
    "import config\n",
    "import pickle\n",
    "from data_loader import get_loader,CocoDataset\n",
    "from build_vocab import Vocabulary"
   ]
  },
  {
   "cell_type": "code",
   "execution_count": 50,
   "metadata": {},
   "outputs": [],
   "source": [
    "from torchvision import models\n",
    "import torch"
   ]
  },
  {
   "cell_type": "code",
   "execution_count": 51,
   "metadata": {},
   "outputs": [],
   "source": [
    "with open(config.VOCAB_PATH, 'rb') as f:\n",
    "    vocab = pickle.load(f)\n",
    "\n",
    "TRAIN_LOADER = {'root':config.TRAIN_FEATURE_PATH, 'json':config.TRAIN_JSON_PATH, 'vocab':vocab, 'batch_size':32, 'shuffle':True, 'num_workers':4}\n",
    "VAL_LOADER = {'root':config.VAL_FEATURE_PATH, 'json':config.VAL_JSON_PATH, 'vocab':vocab, 'batch_size':32, 'shuffle':False, 'num_workers':4}"
   ]
  },
  {
   "cell_type": "code",
   "execution_count": 52,
   "metadata": {},
   "outputs": [
    {
     "name": "stdout",
     "output_type": "stream",
     "text": [
      "loading annotations into memory...\n",
      "Done (t=0.68s)\n",
      "creating index...\n",
      "index created!\n",
      "loading annotations into memory...\n",
      "Done (t=0.34s)\n",
      "creating index...\n",
      "index created!\n"
     ]
    }
   ],
   "source": [
    "train_loader = get_loader(**TRAIN_LOADER)\n",
    "val_loader = get_loader(**VAL_LOADER)"
   ]
  },
  {
   "cell_type": "code",
   "execution_count": 53,
   "metadata": {},
   "outputs": [
    {
     "data": {
      "text/plain": [
       "4530"
      ]
     },
     "execution_count": 53,
     "metadata": {},
     "output_type": "execute_result"
    }
   ],
   "source": [
    "vocab_size = len(vocab)\n",
    "vocab_size"
   ]
  },
  {
   "cell_type": "code",
   "execution_count": null,
   "metadata": {},
   "outputs": [
    {
     "name": "stderr",
     "output_type": "stream",
     "text": [
      "  8%|▊         | 1002/12942 [00:48<11:11, 17.77it/s]"
     ]
    },
    {
     "name": "stdout",
     "output_type": "stream",
     "text": [
      "torch.Size([32, 16])\n",
      "warm ground bumper pregnant pretty paddles approaches spraying containers wall steering artist mushrooms toothpaste gone oriental ------------\n",
      "dorm flags dress trainer stoplight tosses pretty mountainside student speaks piles instructions floored fireman i archway ------------\n",
      "jars mom packaged combination glides shadows trolley remains chinese ditch trolley married recording angry shearing skiier ------------\n",
      "fill nails watering rice nails overview entree picnic streets tongue cozy ben hats column glazed skiier ------------\n",
      "bushes slightly lemon force conveyor instrument clydesdale your obstacles freely bicycles filing propellers leans donkey skiier ------------\n",
      "coral touching streetlight bikers bubbles gas cute ball attacking taken turn starts <pad> store skiier skiier ------------\n",
      "duck larger shallow manual stoplight amidst sunshine dump nails containing stall shallow toy notes skiier skiier ------------\n",
      "floored rice miscellaneous groceries multicolored cupboards strings bananas jars instrument sunshine mason asparagus strawberries skiier skiier ------------\n",
      ". branch bad dust gas palm begins control ornately on decorate glides ripe snowy skiier skiier ------------\n",
      "warm carpet : containing workstation arm bagels spreads ball pitches dirty : snowy cloth skiier skiier ------------\n",
      "gathers florets floored shallow stickers watering flanked mean autumn rusted lemon perform she cloth skiier skiier ------------\n",
      "holds guides bushes fighter pasta plates fixed ear chinese end mushroom labels containers manual skiier skiier ------------\n",
      "rural females kissing licks seemingly attempting mannequin squash ketchup campus ships rolled conductor skiier skiier skiier ------------\n",
      "puts trolley sunlight from she cloth overlook inner numerals black-and-white flags pop controlled skiier skiier skiier ------------\n",
      "slide squat <end> reclining turn hilly railroad tissue dead grove filling thomas slices skiier skiier skiier ------------\n",
      "leaning golf finished pushes sailboats life attempts cream watching cream motorcyclist mannequin skiier skiier skiier skiier ------------\n",
      "heads wrestling fisheye piles signage ; rather cute coaster cozy flowered rose skiier skiier skiier skiier ------------\n",
      "symbol workspace shades drain faded lite offers nails reflecting bathing ducks snowy skiier skiier skiier skiier ------------\n",
      "snowboards floating egg store white streetlight jacket jar groceries foam outstretched sport skiier skiier skiier skiier ------------\n",
      "shallow dish shallow exotic consumption turn pregnant waterfall appears inner trolley border skiier skiier skiier skiier ------------\n",
      "behind obstacle sunny attempting sweets overview creek rise control nails pretty consumption skiier skiier skiier skiier ------------\n",
      "motorcyclists patrons parrots sewing outstretched ditch recording barrels pasta steel guys skiier skiier skiier skiier skiier ------------\n",
      "photographer floating eyeglasses containing watches containers parent begins shelves same cloth skiier skiier skiier skiier skiier ------------\n",
      "backed brand control floored underwear pedestrians sized parent sunshine offers zucchini skiier skiier skiier skiier skiier ------------\n",
      "sheet cuts tie touching waterway filing control missed off turn strawberries skiier skiier skiier skiier skiier ------------\n",
      "sheet tractor . offers mill florets horned t tosses fisheye drive skiier skiier skiier skiier skiier ------------\n",
      "floored indicate glides styles damaged walkway strips hilly ferry fireman strips skiier skiier skiier skiier skiier ------------\n",
      "dinner tape central cob oriental control pilots basin wheelie foreign cloth skiier skiier skiier skiier skiier ------------\n",
      "neat rice stairs shallow ping puppies trails scenic flags snowy gas skiier skiier skiier skiier skiier ------------\n",
      "book tulips warning nails piles connected seats glides kiteboard amidst skiier skiier skiier skiier skiier skiier ------------\n",
      "onions triangle waterfall knee rice sour control pretty across tosses skiier skiier skiier skiier skiier skiier ------------\n",
      "floating lemon pasta microwave shadow gas overview rose skiier skiier skiier skiier skiier skiier skiier skiier ------------\n"
     ]
    },
    {
     "name": "stderr",
     "output_type": "stream",
     "text": [
      " 12%|█▏        | 1506/12942 [01:13<08:37, 22.08it/s]"
     ]
    }
   ],
   "source": [
    "device = torch.device(\"cuda\" if torch.cuda.is_available() else \"cpu\") \n",
    "from torch import nn,optim\n",
    "from model import EncoderCNN,DecoderRNN\n",
    "from torch.nn.utils.rnn import pack_padded_sequence\n",
    "from tqdm import tqdm\n",
    "encoder = EncoderCNN(512,image_dim=256)\n",
    "encoder.to(device)\n",
    "decoder = DecoderRNN(256,300,300,vocab_size)\n",
    "decoder.to(device)\n",
    "enc_optimizer = optim.SGD(encoder.parameters(),lr=1e-4)\n",
    "dec_optimizer = optim.SGD(decoder.parameters(),lr=1e-4)\n",
    "for epoch in range(10):\n",
    "    total_loss = 0\n",
    "    for i,data in enumerate(tqdm(train_loader)):\n",
    "        enc_optimizer.zero_grad()\n",
    "        dec_optimizer.zero_grad()\n",
    "        images,captions,lengths = data\n",
    "        images = images.to(device)\n",
    "        captions = captions.to(device)\n",
    "        encoded_images = encoder(images)\n",
    "        predictions,captions,lengths,alphas = decoder(encoded_images,captions,lengths)\n",
    "        if i == 1000 and epoch ==0:\n",
    "            predicted = predictions.argmax(dim=2)\n",
    "            print(predicted.shape)\n",
    "            for sentence in predicted:\n",
    "                for word in sentence:\n",
    "                    print(vocab.idx2word[word.cpu().detach().item()],end=\" \")\n",
    "                print(\"------------\")\n",
    "        targets = captions[:, 1:]\n",
    "        scores, _,_,_ = pack_padded_sequence(predictions, lengths, batch_first=True)\n",
    "        targets, _,_,_ = pack_padded_sequence(targets, lengths, batch_first=True)\n",
    "        # Calculate loss\n",
    "        loss = nn.CrossEntropyLoss()(scores, targets)\n",
    "        loss.backward()\n",
    "        enc_optimizer.step()\n",
    "        dec_optimizer.step()\n",
    "        total_loss += loss.item()\n",
    "\n",
    "    print(total_loss/len(train_loader))"
   ]
  },
  {
   "cell_type": "code",
   "execution_count": null,
   "metadata": {},
   "outputs": [],
   "source": [
    "vocab.word2idx[\"skiier\"]"
   ]
  },
  {
   "cell_type": "code",
   "execution_count": 29,
   "metadata": {},
   "outputs": [
    {
     "ename": "KeyError",
     "evalue": "4530",
     "output_type": "error",
     "traceback": [
      "\u001b[0;31m---------------------------------------------------------------------------\u001b[0m",
      "\u001b[0;31mKeyError\u001b[0m                                  Traceback (most recent call last)",
      "\u001b[0;32m<ipython-input-29-4b15f405a4f2>\u001b[0m in \u001b[0;36m<module>\u001b[0;34m\u001b[0m\n\u001b[0;32m----> 1\u001b[0;31m \u001b[0mvocab\u001b[0m\u001b[0;34m.\u001b[0m\u001b[0midx2word\u001b[0m\u001b[0;34m[\u001b[0m\u001b[0;36m4530\u001b[0m\u001b[0;34m]\u001b[0m\u001b[0;34m\u001b[0m\u001b[0;34m\u001b[0m\u001b[0m\n\u001b[0m",
      "\u001b[0;31mKeyError\u001b[0m: 4530"
     ]
    }
   ],
   "source": []
  },
  {
   "cell_type": "code",
   "execution_count": null,
   "metadata": {},
   "outputs": [],
   "source": []
  }
 ],
 "metadata": {
  "kernelspec": {
   "display_name": "Python 3",
   "language": "python",
   "name": "python3"
  },
  "language_info": {
   "codemirror_mode": {
    "name": "ipython",
    "version": 3
   },
   "file_extension": ".py",
   "mimetype": "text/x-python",
   "name": "python",
   "nbconvert_exporter": "python",
   "pygments_lexer": "ipython3",
   "version": "3.6.10"
  }
 },
 "nbformat": 4,
 "nbformat_minor": 4
}
